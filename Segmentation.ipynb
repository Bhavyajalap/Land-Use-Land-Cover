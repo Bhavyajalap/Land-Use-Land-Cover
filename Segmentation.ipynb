{
 "cells": [
  {
   "cell_type": "code",
   "execution_count": 3,
   "id": "b820f1bf",
   "metadata": {},
   "outputs": [
    {
     "data": {
      "text/html": [
       "\n",
       "            <style>\n",
       "                .geemap-dark {\n",
       "                    --jp-widgets-color: white;\n",
       "                    --jp-widgets-label-color: white;\n",
       "                    --jp-ui-font-color1: white;\n",
       "                    --jp-layout-color2: #454545;\n",
       "                    background-color: #383838;\n",
       "                }\n",
       "                    \n",
       "                .geemap-dark .jupyter-button {\n",
       "                    --jp-layout-color3: #383838;\n",
       "                }\n",
       "                \n",
       "                .geemap-colab {\n",
       "                    background-color: var(--colab-primary-surface-color, white);\n",
       "                }\n",
       "                    \n",
       "                .geemap-colab .jupyter-button {\n",
       "                    --jp-layout-color3: var(--colab-primary-surface-color, white);\n",
       "                }\n",
       "            </style>\n",
       "            "
      ],
      "text/plain": [
       "<IPython.core.display.HTML object>"
      ]
     },
     "metadata": {},
     "output_type": "display_data"
    },
    {
     "data": {
      "application/vnd.jupyter.widget-view+json": {
       "model_id": "1d0807526279423389e53f82bbdb3c79",
       "version_major": 2,
       "version_minor": 0
      },
      "text/plain": [
       "Map(center=[0, 0], controls=(WidgetControl(options=['position', 'transparent_bg'], widget=SearchDataGUI(childr…"
      ]
     },
     "execution_count": 3,
     "metadata": {},
     "output_type": "execute_result"
    }
   ],
   "source": [
    "import ee\n",
    "import geemap\n",
    "ee.Authenticate()\n",
    "ee.Initialize()\n",
    "m = geemap.Map()\n",
    "m"
   ]
  },
  {
   "cell_type": "code",
   "execution_count": 4,
   "id": "8ba752ee",
   "metadata": {},
   "outputs": [
    {
     "data": {
      "text/html": [
       "\n",
       "            <style>\n",
       "                .geemap-dark {\n",
       "                    --jp-widgets-color: white;\n",
       "                    --jp-widgets-label-color: white;\n",
       "                    --jp-ui-font-color1: white;\n",
       "                    --jp-layout-color2: #454545;\n",
       "                    background-color: #383838;\n",
       "                }\n",
       "                    \n",
       "                .geemap-dark .jupyter-button {\n",
       "                    --jp-layout-color3: #383838;\n",
       "                }\n",
       "                \n",
       "                .geemap-colab {\n",
       "                    background-color: var(--colab-primary-surface-color, white);\n",
       "                }\n",
       "                    \n",
       "                .geemap-colab .jupyter-button {\n",
       "                    --jp-layout-color3: var(--colab-primary-surface-color, white);\n",
       "                }\n",
       "            </style>\n",
       "            "
      ],
      "text/plain": [
       "<IPython.core.display.HTML object>"
      ]
     },
     "metadata": {},
     "output_type": "display_data"
    },
    {
     "data": {
      "application/vnd.jupyter.widget-view+json": {
       "model_id": "7c43fc92fafe4e3792e71f7f685336c2",
       "version_major": 2,
       "version_minor": 0
      },
      "text/plain": [
       "Map(center=[36.182016, -115.32053], controls=(WidgetControl(options=['position', 'transparent_bg'], widget=Sea…"
      ]
     },
     "execution_count": 4,
     "metadata": {},
     "output_type": "execute_result"
    }
   ],
   "source": [
    "# Load a NAIP image for a neighborhood in Las Vegas.\n",
    "naip = ee.Image('USDA/NAIP/DOQQ/m_3611554_sw_11_1_20170613')\n",
    "\n",
    "\n",
    "# # Apply the SNIC algorithm to the image.\n",
    "snic = ee.Algorithms.Image.Segmentation.SNIC(\n",
    "    image=naip, size=30, compactness=0.1, connectivity=8\n",
    ")\n",
    "\n",
    "# Display the original NAIP image as RGB.\n",
    "m = geemap.Map()\n",
    "m.set_center(-115.32053, 36.182016, 18)\n",
    "m.add_layer(naip, None, 'NAIP RGB')\n",
    "\n",
    "# Display the clusters.\n",
    "m.add_layer(snic.randomVisualizer(), None, 'Clusters')\n",
    "\n",
    "# Display the RGB cluster means.\n",
    "vis_params = {'bands': ['R_mean', 'G_mean', 'B_mean'], 'min': 0, 'max': 255}\n",
    "m.add_layer(snic, vis_params, 'RGB cluster means')\n",
    "m\n",
    "\n",
    "# import ee\n",
    "\n",
    "# # Initialize the Earth Engine API\n",
    "# ee.Initialize()\n",
    "\n",
    "# # Define the region of interest (ROI) using a geometry (e.g., a bounding box or a shapefile)\n",
    "# # Here, I'm using a bounding box for India\n",
    "# roi = ee.Geometry.Rectangle([68.1766451354, 6.75493247563, 97.4025614766, 35.6745456782])\n",
    "\n",
    "# # Load an image collection (e.g., Landsat imagery) for segmentation\n",
    "# image_collection = ee.ImageCollection(\"LANDSAT/LC08/C01/T1_TOA\")\n",
    "\n",
    "# # Filter the image collection based on date and region\n",
    "# filtered_collection = image_collection.filterBounds(roi).filterDate('2018-01-01', '2018-12-31')\n",
    "\n",
    "# # Select the bands for segmentation\n",
    "# bands = ['B2', 'B3', 'B4', 'B5', 'B6', 'B7']  # Example bands from Landsat 8\n",
    "\n",
    "# # Apply the segmentation algorithm (e.g., MeanShift)\n",
    "# segmentation = ee.Algorithms.Image.Segmentation.MeanShift(\n",
    "#     image=filtered_collection.select(bands),\n",
    "#     spatialRadius=30,\n",
    "#     kernelSize=144,\n",
    "#     maxIterations=100\n",
    "# )\n",
    "\n",
    "# # Perform the segmentation\n",
    "# result = segmentation.select(['cluster']).clip(roi)\n",
    "\n",
    "# # Display the segmentation result on the map\n",
    "# from IPython.display import display\n",
    "# display(result)\n"
   ]
  },
  {
   "cell_type": "code",
   "execution_count": null,
   "id": "8adaf2a2",
   "metadata": {},
   "outputs": [],
   "source": []
  }
 ],
 "metadata": {
  "kernelspec": {
   "display_name": "Python 3 (ipykernel)",
   "language": "python",
   "name": "python3"
  },
  "language_info": {
   "codemirror_mode": {
    "name": "ipython",
    "version": 3
   },
   "file_extension": ".py",
   "mimetype": "text/x-python",
   "name": "python",
   "nbconvert_exporter": "python",
   "pygments_lexer": "ipython3",
   "version": "3.11.5"
  }
 },
 "nbformat": 4,
 "nbformat_minor": 5
}
